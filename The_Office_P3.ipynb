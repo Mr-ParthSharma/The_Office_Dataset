{
 "cells": [
  {
   "cell_type": "markdown",
   "metadata": {},
   "source": [
    "# Count the lines of a given actor from the script (csv file) of \"The Office\""
   ]
  },
  {
   "cell_type": "code",
   "execution_count": 9,
   "metadata": {},
   "outputs": [],
   "source": [
    "#Importing Csv data \n",
    "\n",
    "import csv\n",
    "\n",
    "actor =\"Michael\"\n",
    "\n",
    "def actor_counter(actor): #creating a function to extract the actor name and count it\n",
    "        csvfile = open('the_office_data/scripts_the_office.csv')\n",
    "        csvreader = csv.reader(csvfile)\n",
    "        list_actor = [row[5] for row in csvreader if row[5]==actor]\n",
    "        csvfile.close()\n",
    "        return len(list_actor)\n",
    "    \n",
    "actor_counter(actor)"
   ]
  },
  {
   "cell_type": "code",
   "execution_count": 11,
   "metadata": {},
   "outputs": [],
   "source": [
    "#creating an actor list \n",
    "actor_list = ['Michael', 'Pam', 'Dwight', 'Angela', 'Kelly', 'Jim', 'Andy', 'Kevin', 'Phyllis', 'Meredith', 'Oscar' ]"
   ]
  },
  {
   "cell_type": "code",
   "execution_count": 12,
   "metadata": {},
   "outputs": [
    {
     "data": {
      "text/plain": [
       "{'Michael': 12137,\n",
       " 'Pam': 5375,\n",
       " 'Dwight': 7529,\n",
       " 'Angela': 1695,\n",
       " 'Kelly': 956,\n",
       " 'Jim': 6814,\n",
       " 'Andy': 3968,\n",
       " 'Kevin': 1708,\n",
       " 'Phyllis': 1071,\n",
       " 'Meredith': 645,\n",
       " 'Oscar': 1490}"
      ]
     },
     "execution_count": 12,
     "metadata": {},
     "output_type": "execute_result"
    }
   ],
   "source": [
    "# creating a dictionary to vitualise the count of all the actors \n",
    "actor_dict ={}\n",
    "\n",
    "for actor in actor_list:\n",
    "    actor_dict[actor] = actor_counter(actor)\n",
    "    \n",
    "actor_dict"
   ]
  },
  {
   "cell_type": "code",
   "execution_count": null,
   "metadata": {},
   "outputs": [],
   "source": []
  }
 ],
 "metadata": {
  "kernelspec": {
   "display_name": "Python 3",
   "language": "python",
   "name": "python3"
  },
  "language_info": {
   "codemirror_mode": {
    "name": "ipython",
    "version": 3
   },
   "file_extension": ".py",
   "mimetype": "text/x-python",
   "name": "python",
   "nbconvert_exporter": "python",
   "pygments_lexer": "ipython3",
   "version": "3.8.5"
  }
 },
 "nbformat": 4,
 "nbformat_minor": 4
}
