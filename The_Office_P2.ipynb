{
 "cells": [
  {
   "cell_type": "markdown",
   "metadata": {},
   "source": [
    "# Display the seasons an actor was a part of based on user-input.\n",
    "        Read contents of csv file containing actor information\n",
    "        Use set coprehension to extract seasons actor was a part of\n",
    "        Make it to where user can input actor's name"
   ]
  },
  {
   "cell_type": "code",
   "execution_count": 1,
   "metadata": {},
   "outputs": [
    {
     "name": "stdout",
     "output_type": "stream",
     "text": [
      "['id', 'season', 'episode', 'scene', 'line_text', 'speaker', 'deleted']\n"
     ]
    }
   ],
   "source": [
    "#   Read contents of csv file containing actor information\n",
    "import csv\n",
    "\n",
    "csvfile = open('the_office_data/scripts_the_office.csv')\n",
    "csvreader = csv.reader(csvfile)\n",
    "for row in csvreader:\n",
    "    print(row)\n",
    "    break\n",
    "csvfile.close()"
   ]
  },
  {
   "cell_type": "code",
   "execution_count": 2,
   "metadata": {},
   "outputs": [
    {
     "name": "stdout",
     "output_type": "stream",
     "text": [
      "season speaker\n"
     ]
    }
   ],
   "source": [
    "#extracting only the required data\n",
    "csvfile = open('the_office_data/scripts_the_office.csv')\n",
    "csvreader = csv.reader(csvfile)     # This reads the file\n",
    "\n",
    "for row in csvreader:\n",
    "    print(row[1], row[5])\n",
    "    break\n",
    "\n",
    "csvfile.close()"
   ]
  },
  {
   "cell_type": "code",
   "execution_count": 3,
   "metadata": {},
   "outputs": [
    {
     "name": "stdout",
     "output_type": "stream",
     "text": [
      "Name an actor to see what seasons they were apart of:Warren Buffett\n",
      "Warren Buffett appeared in season(s): \n",
      " ['7']\n"
     ]
    }
   ],
   "source": [
    "actor = input(\"Name an actor to see what seasons they were apart of:\") #Make it to where user can input actor's name\n",
    "\n",
    "csvfile = open('the_office_data/scripts_the_office.csv')\n",
    "csvreader = csv.reader(csvfile)     # This reads the file\n",
    "\n",
    "\n",
    "actor_appearance = {row[1]  for row in csvreader if actor in row[5]} #Use set coprehension to extract seasons actor was a part of\n",
    "\n",
    "csvfile.close()\n",
    "\n",
    "print(actor, 'appeared in season(s): \\n', sorted(actor_appearance))"
   ]
  },
  {
   "cell_type": "code",
   "execution_count": null,
   "metadata": {},
   "outputs": [],
   "source": []
  }
 ],
 "metadata": {
  "kernelspec": {
   "display_name": "Python 3",
   "language": "python",
   "name": "python3"
  },
  "language_info": {
   "codemirror_mode": {
    "name": "ipython",
    "version": 3
   },
   "file_extension": ".py",
   "mimetype": "text/x-python",
   "name": "python",
   "nbconvert_exporter": "python",
   "pygments_lexer": "ipython3",
   "version": "3.8.5"
  }
 },
 "nbformat": 4,
 "nbformat_minor": 4
}
