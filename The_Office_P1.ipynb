{
 "cells": [
  {
   "cell_type": "markdown",
   "metadata": {},
   "source": [
    "# #Working On my first ppython project, for this i am using a popular dataset \"The Office\""
   ]
  },
  {
   "cell_type": "markdown",
   "metadata": {},
   "source": [
    "## Question 1  \n",
    "\n",
    "Find \"That's what she said\" in the 'scripts_the_office.csv'\n",
    "Additonally return the previous and current lines\n",
    "NOTE: The external library Pandas would be easier for this, but we are focusing on the Python Standard Library\n",
    "\n",
    "1.Read the data from the csv\n",
    "2.Extract script data into a list\n",
    "3.Check for match statment\n",
    "    3a. Return previous line and current line"
   ]
  },
  {
   "cell_type": "code",
   "execution_count": 2,
   "metadata": {},
   "outputs": [
    {
     "name": "stdout",
     "output_type": "stream",
     "text": [
      "['id', 'season', 'episode', 'scene', 'line_text', 'speaker', 'deleted']\n"
     ]
    }
   ],
   "source": [
    "#importing the dataset\n",
    "import csv\n",
    "\n",
    "\n",
    "csvfile = open('the_office_data/scripts_the_office.csv')\n",
    "\n",
    "#reading a CSv file\n",
    "csvreader = csv.reader(csvfile)\n",
    "for row in csvreader:\n",
    "    print(row)\n",
    "    break  # we are printing only the first row for test purpuse\n",
    "\n",
    "csvfile.close()"
   ]
  },
  {
   "cell_type": "code",
   "execution_count": 3,
   "metadata": {},
   "outputs": [],
   "source": [
    "##Extracting line_text data from the dataset\n",
    "import csv\n",
    "\n",
    "\n",
    "csvfile = open('the_office_data/scripts_the_office.csv')\n",
    "\n",
    "Script = []\n",
    "csvreader = csv.reader(csvfile)\n",
    "for row in csvreader:\n",
    "    Script.append(row[4])\n",
    "\n",
    "\n",
    "csvfile.close()"
   ]
  },
  {
   "cell_type": "code",
   "execution_count": 4,
   "metadata": {
    "scrolled": false
   },
   "outputs": [
    {
     "name": "stdout",
     "output_type": "stream",
     "text": [
      "No, thanks. I'm good. \n",
      " That's what she said. Pam? \n",
      "\n",
      "\n",
      "Does the skin look red and swollen? \n",
      " That's what she said. \n",
      "\n",
      "\n",
      "I have a ton of stuff to do for the wedding. And I have to do it in the office. And that can be kind of awkward. Um... just because people can get all weird about wedding stuff. Then... I just... I don't want to offend... Angela... or someone. \n",
      " That's what she said! \n",
      "\n",
      "\n",
      "You already did me. \n",
      " That's what she said. [Jim mouths these words along with Michael] The thing is, Angela... you are in here an awful lot. You have complained about everybody in the office, except Dwight, which is odd because everyone else has had run ins with Dwight. Toby, by the way, what does 'redacted' mean? There is a file full of complaints in here marked 'redacted'... ? \n",
      "\n",
      "\n",
      "I mean, they're just dough twisted up with some candy. They taste so good in my mouth. \n",
      " That's what she said. [Stanley and Michael both laugh] \n",
      "\n",
      "\n",
      "Thanks! I, I wanna give you something. \n",
      " Oh. [She whispers in his ear. Michael starts to laugh] That's what she said. \n",
      "\n",
      "\n",
      "Ok, you know what? I want you to think about your future in this company. I want you to think about it long and hard. \n",
      " That's what she said. \n",
      "\n",
      "\n",
      "Let's just blow this party off. \n",
      " That's what she said. \n",
      "\n",
      "\n",
      "It's a heart. \n",
      " Why is this so hard? That's what she said. Oh my God. What am I saying? \n",
      "\n",
      "\n",
      "Yeah, I'm definitely gonna go alone. \n",
      " No, no.  I need two men on this.  That's what she said.  No time!  But she did.  NO TIME!  Guys, get on this.  Dwight, I want you to be in charge of the press conference. \n",
      "\n",
      "\n",
      "No mustard! No mustard! Just... eat it. Eat it, Phyllis. Dip it in the water so it will slide down your gullet more easily. \n",
      " That's what she said! \n",
      "\n",
      "\n",
      "Jim Halpert's off the market. Guess who just became the best looking single guy in the office? \n",
      " Hey. Can you make that straighter? That's what she said. \n",
      "\n",
      "\n",
      "Well, I don't think I'll be here in ten years. \n",
      " That's what I said. That's what she said. \n",
      "\n",
      "\n",
      "I never know. I just say it. I say stuff like that, you know, to lighten the tension. When things sort of get hard. \n",
      " That's what she said. \n",
      "\n",
      "\n",
      "And you were directly under her the entire time? \n",
      " That's what she said. \n",
      "\n",
      "\n",
      "Excuse me? \n",
      " That's what she said. \n",
      "\n",
      "\n",
      "With all due respect, I'm in the middle of a line of questioning. Now Mr. Scott, what did you say Ms. Levinson said? Regarding your employment status with respect to her corporate position. \n",
      " Come again? That's what she said? I don't know what you're talking about. \n",
      "\n",
      "\n",
      "Can you go back to where this digression began? \n",
      " [reading off paper] Mr. Schneider: And you were directly under her the entire time? Mr. Scott: That's what she said. \n",
      "\n",
      "\n",
      "And... go. [Michael sticks his face in the cement] Force it in as deep as you can. \n",
      " [muffled] That's what she said. \n",
      "\n",
      "\n",
      "[sitting on a stack of paper] Yeah, well, if you're only free till three on Sunday and I can't get there till one, then it's gonna be pretty tight. \n",
      " [from his office] That's what she said. \n",
      "\n",
      "\n",
      "Michael. Don't. Don't. Don't make it harder than it has to be. \n",
      " That's what she said. \n",
      "\n",
      "\n",
      "Dwight, get out of my nook! \n",
      " [in New York] That's what she said! That's what she said! That's what she said! \n",
      "\n",
      "\n",
      "Alright Dwight. This is huge. \n",
      " That's what she said! [David laughs] \n",
      "\n",
      "\n",
      "You need to get back on top. \n",
      " That's what she said. \n",
      "\n",
      "\n",
      "Michael! You are making this harder than it has to be. \n",
      " [grimacing] That's what she said. [leaves] \n",
      "\n",
      "\n",
      "No, no, no. And people don't understand that is has nothing to do with making fun of a different nationality. \n",
      " No, no. No, comedy is a place where the mind goes to tickle itself. That's what she said. [laughs]. [hugs Michaels] Ohh. \n",
      "\n",
      "\n",
      "I was in love with you. \n",
      " I'm not saying it won't be hard. But we can make it work. That's what she said. \n",
      "\n",
      "\n",
      "Got almost everybody. So... Holly's my family now. [you see video of Michael getting into the cab, and driving off. As the cab leaves, Pam drives in] She's my family. The babies that I make with her, will be my children. The people that you work with, are just... when you get down to it... your very best friends. They say, on your deathbed, you never wish you spent more time at the office. But I will. Gotta be a lot better than a deathbed. [You see Michael getting out and entering the airport, and going through security] I actually don't understand deathbeds. I mean, who would buy that? \n",
      " [putting his shoes back on, talking to the camera crew] Well, I guess this is it. Hey will you guys let me know if this ever airs? Thank you. Alright... Oh! [pulls out his mic from his shirt] This is gonna feel so good, getting this thing off my chest. [he hands them the body mic, when he speaks it is inaudible now] That's what she said! [waves goodbye and walks off to his gate, halfway there Pam comes running up to him and they hug for a while. They say their goodbyes to each other, and Michael walks off for good] \n",
      "\n",
      "\n",
      "Wait! Wait. Hold on. Whereï¿½ï¿½ï¿½s the band? ï¿½ï¿½ï¿½Cause thereï¿½ï¿½ï¿½s just no way you guys are making this magic with just your mouths. \n",
      " Yeah.  That's what she said. \n",
      "\n",
      "\n"
     ]
    }
   ],
   "source": [
    "# Comparing the text\"That's what she said\" in the extracted data\n",
    "\n",
    "condition =\"That's what she said\"\n",
    "\n",
    "for item in Script:\n",
    "    if condition in item:\n",
    "        print(previous_item, '\\n', item, '\\n\\n')\n",
    "    previous_item = item\n",
    "    "
   ]
  },
  {
   "cell_type": "markdown",
   "metadata": {},
   "source": [
    "## Hurayyye! The Code run Successfully"
   ]
  }
 ],
 "metadata": {
  "kernelspec": {
   "display_name": "Python 3",
   "language": "python",
   "name": "python3"
  },
  "language_info": {
   "codemirror_mode": {
    "name": "ipython",
    "version": 3
   },
   "file_extension": ".py",
   "mimetype": "text/x-python",
   "name": "python",
   "nbconvert_exporter": "python",
   "pygments_lexer": "ipython3",
   "version": "3.8.5"
  }
 },
 "nbformat": 4,
 "nbformat_minor": 4
}
